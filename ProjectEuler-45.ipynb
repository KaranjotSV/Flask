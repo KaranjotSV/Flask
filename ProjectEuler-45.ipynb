{
 "cells": [
  {
   "cell_type": "markdown",
   "metadata": {},
   "source": [
    "### If what a pentagonal or hexagonal number is, is not known!"
   ]
  },
  {
   "cell_type": "code",
   "execution_count": 1,
   "metadata": {},
   "outputs": [],
   "source": [
    "T_nums = []\n",
    "P_nums = []\n",
    "H_nums = []\n",
    "\n",
    "for num in range(100000):\n",
    "\n",
    "    T_nums.append((num*(num + 1))/2)\n",
    "    P_nums.append((num*(3*num - 1))/2)\n",
    "    H_nums.append(num*(2*num - 1))"
   ]
  },
  {
   "cell_type": "code",
   "execution_count": 2,
   "metadata": {},
   "outputs": [],
   "source": [
    "common_nums = []\n",
    "\n",
    "for num in T_nums:\n",
    "    if num in P_nums:\n",
    "        if num in H_nums:\n",
    "            common_nums.append(num)"
   ]
  },
  {
   "cell_type": "code",
   "execution_count": 9,
   "metadata": {},
   "outputs": [
    {
     "name": "stdout",
     "output_type": "stream",
     "text": [
      "The next triangle number which is pentagonal as well as hexagonal : 1533776805.0\n",
      "Index of the triangle number: 55385\n"
     ]
    }
   ],
   "source": [
    "number_found = common_nums[3]\n",
    "print(\"The next triangle number which is pentagonal as well as hexagonal : \" + str(number_found))\n",
    "print(\"Index of the triangle number: \" + str(T_nums.index(number_found)))"
   ]
  },
  {
   "cell_type": "markdown",
   "metadata": {},
   "source": [
    "### If properties of pentagonal and hexagonal numbers is known!"
   ]
  },
  {
   "cell_type": "code",
   "execution_count": 5,
   "metadata": {},
   "outputs": [],
   "source": [
    "def is_pentagonal(num):\n",
    "\n",
    "    if (1 + (24*num + 1) ** 0.5) % 6 == 0:\n",
    "        return True\n",
    "    \n",
    "    return False"
   ]
  },
  {
   "cell_type": "code",
   "execution_count": 6,
   "metadata": {},
   "outputs": [],
   "source": [
    "def is_hexagonal(num):\n",
    "    \n",
    "    if (1 + (8*num + 1) ** 0.5) % 4 == 0:\n",
    "        return True\n",
    "    \n",
    "    return False"
   ]
  },
  {
   "cell_type": "code",
   "execution_count": 8,
   "metadata": {},
   "outputs": [
    {
     "name": "stdout",
     "output_type": "stream",
     "text": [
      "Next such number is: 1533776805.0\n"
     ]
    }
   ],
   "source": [
    "num = 286 # Last such number was found for num = 285\n",
    "\n",
    "while True:\n",
    "    triangle = num * (num + 1) / 2\n",
    "    \n",
    "    if is_pentagonal(triangle) and is_hexagonal(triangle):\n",
    "        \n",
    "        print (\"Next such number is: \" + str(triangle))\n",
    "        break\n",
    "    \n",
    "    num += 1"
   ]
  }
 ],
 "metadata": {
  "kernelspec": {
   "display_name": "Python 3",
   "language": "python",
   "name": "python3"
  },
  "language_info": {
   "codemirror_mode": {
    "name": "ipython",
    "version": 3
   },
   "file_extension": ".py",
   "mimetype": "text/x-python",
   "name": "python",
   "nbconvert_exporter": "python",
   "pygments_lexer": "ipython3",
   "version": "3.6.9"
  }
 },
 "nbformat": 4,
 "nbformat_minor": 2
}
